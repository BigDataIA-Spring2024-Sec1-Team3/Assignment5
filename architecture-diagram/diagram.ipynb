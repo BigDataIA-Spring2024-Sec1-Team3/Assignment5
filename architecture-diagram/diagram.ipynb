{
 "cells": [
  {
   "cell_type": "code",
   "execution_count": 2,
   "metadata": {},
   "outputs": [],
   "source": [
    "from diagrams import Diagram, Cluster, Edge\n",
    "from diagrams.programming.language import Python\n",
    "from diagrams.custom import Custom\n",
    "from diagrams.aws.storage import S3\n",
    "from diagrams.aws.network import ELB\n",
    "from diagrams.aws.compute import EC2\n",
    "from diagrams.saas.analytics import Snowflake\n",
    "from diagrams.onprem.workflow import Airflow\n",
    "from diagrams.programming.framework import FastAPI\n",
    "from diagrams.digitalocean.compute import Docker\n",
    "from diagrams.onprem.database import Mongodb"
   ]
  },
  {
   "cell_type": "code",
   "execution_count": 3,
   "metadata": {},
   "outputs": [],
   "source": [
    "# Adjust these Graphviz attributes to increase diagram size, node spacing, etc.\n",
    "graph_attr = {\n",
    "    \"fontsize\": \"14\"\n",
    "}\n",
    "\n",
    "filename = \"flow_diagram\""
   ]
  },
  {
   "cell_type": "code",
   "execution_count": 33,
   "metadata": {},
   "outputs": [],
   "source": [
    "from turtle import st\n",
    "\n",
    "\n",
    "def create_flow_diagram():\n",
    "    try:\n",
    "        with Diagram(\"Flow Diagram\", filename=filename, show=False, direction=\"LR\", graph_attr=graph_attr):\n",
    "            user = Custom(\"User\", \"./input_icons/user.png\")\n",
    "            streamlit = Custom(\"Streamlit\", \"./input_icons/streamlit.png\")\n",
    "\n",
    "            with Cluster(\"Generating Knowledge Base\"):\n",
    "                snowflake = Snowflake(\"Importing Web Scraped Data &\\nExporting Filtered Data\")\n",
    "                python_1 = Python(\"Chunking & Embedding\\nText Data\")\n",
    "                openai = Custom(\"OpenAI\", \"./input_icons/openai.png\")\n",
    "                pinecone = Custom(\"Pinecone\", \"./input_icons/pinecone.png\")\n",
    "                \n",
    "            with Cluster(\"Generating Question Banks\"):\n",
    "                csvfile = Custom(\"CSV File\", \"./input_icons/csv-file.jpg\")\n",
    "                snowflake_2 = Snowflake(\"Filtered Data\")\n",
    "                s3_1 = S3(\"Question Bank A & B\\nFile Storage\")\n",
    "\n",
    "            with Cluster(\"Q&A Using Questions\"):\n",
    "                python_2 = Python(\"Parsing Set B Data\\n & Embedding\")\n",
    "                python_3 = Python(\"Retrieving\\ncontext by Similarity Search\")\n",
    "\n",
    "            with Cluster(\"Q&A Using Data\"):\n",
    "                python_4 = Python(\"Retrieving\\ncontext by Similarity Search\")\n",
    "                \n",
    "\n",
    "            user >> streamlit \n",
    "\n",
    "            streamlit >> snowflake\n",
    "            snowflake >> python_1 >> openai >> pinecone\n",
    "\n",
    "            streamlit >> csvfile\n",
    "            csvfile >> snowflake_2 >> openai >> s3_1 << pinecone\n",
    "    \n",
    "\n",
    "            streamlit >> s3_1 >> python_2 >> python_3 >> openai\n",
    "\n",
    "            streamlit >> s3_1 >> python_4 >> openai\n",
    "\n",
    "    except Exception as e:\n",
    "        print(\"Exception: \", e)"
   ]
  },
  {
   "cell_type": "code",
   "execution_count": 34,
   "metadata": {},
   "outputs": [],
   "source": [
    "create_flow_diagram()"
   ]
  },
  {
   "cell_type": "code",
   "execution_count": 10,
   "metadata": {},
   "outputs": [
    {
     "ename": "SyntaxError",
     "evalue": "invalid syntax (1519832610.py, line 2)",
     "output_type": "error",
     "traceback": [
      "\u001b[0;36m  Cell \u001b[0;32mIn[10], line 2\u001b[0;36m\u001b[0m\n\u001b[0;31m    sys.path(./)\u001b[0m\n\u001b[0m             ^\u001b[0m\n\u001b[0;31mSyntaxError\u001b[0m\u001b[0;31m:\u001b[0m invalid syntax\n"
     ]
    }
   ],
   "source": []
  }
 ],
 "metadata": {
  "kernelspec": {
   "display_name": "venv",
   "language": "python",
   "name": "python3"
  },
  "language_info": {
   "codemirror_mode": {
    "name": "ipython",
    "version": 3
   },
   "file_extension": ".py",
   "mimetype": "text/x-python",
   "name": "python",
   "nbconvert_exporter": "python",
   "pygments_lexer": "ipython3",
   "version": "3.11.4"
  }
 },
 "nbformat": 4,
 "nbformat_minor": 2
}
