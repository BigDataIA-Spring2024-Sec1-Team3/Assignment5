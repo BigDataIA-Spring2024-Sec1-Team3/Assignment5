{
 "cells": [
  {
   "cell_type": "code",
   "execution_count": 1,
   "metadata": {},
   "outputs": [],
   "source": [
    "from diagrams import Diagram, Cluster, Edge\n",
    "from diagrams.programming.language import Python\n",
    "from diagrams.custom import Custom\n",
    "from diagrams.aws.storage import S3\n",
    "from diagrams.aws.network import ELB\n",
    "from diagrams.aws.compute import EC2\n",
    "from diagrams.saas.analytics import Snowflake\n",
    "from diagrams.onprem.workflow import Airflow\n",
    "from diagrams.programming.framework import FastAPI\n",
    "from diagrams.digitalocean.compute import Docker\n",
    "from diagrams.onprem.database import Mongodb"
   ]
  },
  {
   "cell_type": "code",
   "execution_count": 2,
   "metadata": {},
   "outputs": [],
   "source": [
    "# Adjust these Graphviz attributes to increase diagram size, node spacing, etc.\n",
    "graph_attr = {\n",
    "    \"fontsize\": \"14\"\n",
    "}\n",
    "\n",
    "filename = \"flow_diagram\""
   ]
  },
  {
   "cell_type": "code",
   "execution_count": 3,
   "metadata": {},
   "outputs": [],
   "source": [
    "def create_flow_diagram():\n",
    "    try:\n",
    "        with Diagram(\"Flow Diagram\", filename=filename, show=False, direction=\"LR\", graph_attr=graph_attr):\n",
    "            user = Custom(\"User\", \"./input_icons/user.png\")\n",
    "            streamlit = Custom(\"Streamlit\", \"./input_icons/streamlit.png\")\n",
    "            s3_1 = S3(\"Question Bank A & B\\nFile Storage\")\n",
    "            fastapi = FastAPI(\"FastAPI\")\n",
    "\n",
    "            with Cluster(\"Generating Knowledge Base\"):\n",
    "                snowflake = Snowflake(\"CFA Web scraped data\")\n",
    "                python_1 = Python(\"Chunking & Embedding\\nText Data\")\n",
    "                openai = Custom(\"OpenAI\", \"./input_icons/openai.png\")\n",
    "                pinecone = Custom(\"Pinecone\", \"./input_icons/pinecone.png\")\n",
    "                \n",
    "            with Cluster(\"Generating Question Banks\"):\n",
    "                generate_qb_py = Python(\"Generate Question\\nBank sets\")\n",
    "                \n",
    "\n",
    "            with Cluster(\"Finding answers using Vector DB\"):\n",
    "                python_2 = Python(\"Embedding and querying\")\n",
    "\n",
    "            with Cluster(\"Q&A Using Data\"):\n",
    "                python_4 = Python(\"Retrieving\\ncontext by\\nSimilarity Search\")\n",
    "            \n",
    "            user >> streamlit >> Edge() << fastapi >> snowflake \n",
    "            fastapi >> s3_1\n",
    "\n",
    "            snowflake >> Edge(label=\"Markdown data\") << python_1 >> openai >> Edge(label=\"Storing embeddings\") >> pinecone\n",
    "            generate_qb_py >> Edge(label=\"Storing Question\\nbank sets\") << s3_1\n",
    "            snowflake >> generate_qb_py\n",
    "            generate_qb_py >>  openai\n",
    "    \n",
    "\n",
    "            s3_1 >> Edge(label=\"Fetching Set A and Set B\") >> python_2 >> openai\n",
    "            python_2 >> Edge(label=\"Storing report\") >> s3_1\n",
    "\n",
    "            s3_1 >> python_4 >> openai\n",
    "\n",
    "    except Exception as e:\n",
    "        print(\"Exception: \", e)"
   ]
  },
  {
   "cell_type": "code",
   "execution_count": 4,
   "metadata": {},
   "outputs": [],
   "source": [
    "create_flow_diagram()"
   ]
  }
 ],
 "metadata": {
  "kernelspec": {
   "display_name": "venv",
   "language": "python",
   "name": "python3"
  },
  "language_info": {
   "codemirror_mode": {
    "name": "ipython",
    "version": 3
   },
   "file_extension": ".py",
   "mimetype": "text/x-python",
   "name": "python",
   "nbconvert_exporter": "python",
   "pygments_lexer": "ipython3",
   "version": "3.11.4"
  }
 },
 "nbformat": 4,
 "nbformat_minor": 2
}
